{
  "nbformat": 4,
  "nbformat_minor": 0,
  "metadata": {
    "colab": {
      "provenance": []
    },
    "kernelspec": {
      "name": "python3",
      "display_name": "Python 3"
    },
    "language_info": {
      "name": "python"
    }
  },
  "cells": [
    {
      "cell_type": "markdown",
      "source": [
        "## 8 puzzle problem"
      ],
      "metadata": {
        "id": "GxeJ2c5ICa7g"
      }
    },
    {
      "cell_type": "code",
      "source": [
        "class Puzzle:\n",
        "    def __init__(self, board, goal, blank=(0, 0)):\n",
        "        self.board = board\n",
        "        self.goal = goal\n",
        "        self.blank = blank\n",
        "\n",
        "    # Function to display the board\n",
        "    def display(self):\n",
        "        for row in self.board:\n",
        "            print(row)\n",
        "        print()\n",
        "\n",
        "    # Find the position of the blank (0) tile\n",
        "    def find_blank(self):\n",
        "        for i in range(len(self.board)):\n",
        "            for j in range(len(self.board[i])):\n",
        "                if self.board[i][j] == 0:\n",
        "                    return i, j\n",
        "\n",
        "    # Check if the current state is the goal state\n",
        "    def is_goal(self):\n",
        "        return self.board == self.goal\n",
        "\n",
        "    # Generate possible moves from the current state\n",
        "    def possible_moves(self):\n",
        "        moves = []\n",
        "        i, j = self.blank\n",
        "        directions = {\"UP\": (-1, 0), \"DOWN\": (1, 0), \"LEFT\": (0, -1), \"RIGHT\": (0, 1)}\n",
        "        for direction, (di, dj) in directions.items():\n",
        "            ni, nj = i + di, j + dj\n",
        "            if 0 <= ni < len(self.board) and 0 <= nj < len(self.board[0]):\n",
        "                moves.append((direction, ni, nj))\n",
        "        return moves\n",
        "\n",
        "    # Move the blank tile in the given direction\n",
        "    def move(self, new_blank):\n",
        "        i, j = self.blank\n",
        "        ni, nj = new_blank\n",
        "        new_board = [row[:] for row in self.board]\n",
        "        new_board[i][j], new_board[ni][nj] = new_board[ni][nj], new_board[i][j]\n",
        "        return Puzzle(new_board, self.goal, blank=(ni, nj))\n",
        "\n",
        "    # Calculate Manhattan distance (heuristic)\n",
        "    def heuristic(self):\n",
        "        distance = 0\n",
        "        for i in range(len(self.board)):\n",
        "            for j in range(len(self.board[i])):\n",
        "                value = self.board[i][j]\n",
        "                if value != 0:  # Ignore the blank tile\n",
        "                    for x in range(len(self.goal)):\n",
        "                        for y in range(len(self.goal[x])):\n",
        "                            if self.goal[x][y] == value:\n",
        "                                distance += abs(x - i) + abs(y - j)\n",
        "        return distance\n",
        "\n",
        "    # A* Search Algorithm\n",
        "    def solve(self):\n",
        "        open_set = [(self, 0)]  # (current state, g value)\n",
        "        visited = []\n",
        "\n",
        "        while open_set:\n",
        "            # Sort open_set by f = g + h\n",
        "            open_set.sort(key=lambda x: x[1] + x[0].heuristic())\n",
        "            current, g = open_set.pop(0)\n",
        "\n",
        "            # Check if goal is reached\n",
        "            if current.is_goal():\n",
        "                print(\"Solution found:\")\n",
        "                current.display()\n",
        "                return True\n",
        "\n",
        "            # Mark current state as visited\n",
        "            visited.append(current.board)\n",
        "\n",
        "            # Generate possible moves\n",
        "            for direction, ni, nj in current.possible_moves():\n",
        "                next_state = current.move((ni, nj))\n",
        "                if next_state.board not in visited:\n",
        "                    open_set.append((next_state, g + 1))\n",
        "\n",
        "        print(\"No solution found.\")\n",
        "        return False\n",
        "\n",
        "\n",
        "# Define initial and goal states\n",
        "initial_state = [\n",
        "    [1, 2, 3],\n",
        "    [4, 0, 5],\n",
        "    [7, 8, 6]\n",
        "]\n",
        "\n",
        "goal_state = [\n",
        "    [1, 2, 3],\n",
        "    [4, 5, 6],\n",
        "    [7, 8, 0]\n",
        "]\n",
        "\n",
        "# Initialize and solve the puzzle\n",
        "puzzle = Puzzle(initial_state, goal_state)\n",
        "print(\"Initial State:\")\n",
        "puzzle.display()\n",
        "puzzle.solve()\n"
      ],
      "metadata": {
        "colab": {
          "base_uri": "https://localhost:8080/"
        },
        "id": "1zLib1Q_MjxN",
        "outputId": "c41fe50d-8de1-483c-9e3a-128eef3acc59"
      },
      "execution_count": 4,
      "outputs": [
        {
          "output_type": "stream",
          "name": "stdout",
          "text": [
            "Initial State:\n",
            "[1, 2, 3]\n",
            "[4, 0, 5]\n",
            "[7, 8, 6]\n",
            "\n",
            "Solution found:\n",
            "[1, 2, 3]\n",
            "[4, 5, 6]\n",
            "[7, 8, 0]\n",
            "\n"
          ]
        },
        {
          "output_type": "execute_result",
          "data": {
            "text/plain": [
              "True"
            ]
          },
          "metadata": {},
          "execution_count": 4
        }
      ]
    }
  ]
}